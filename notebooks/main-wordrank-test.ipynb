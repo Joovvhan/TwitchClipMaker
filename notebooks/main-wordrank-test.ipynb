{
 "cells": [
  {
   "cell_type": "code",
   "execution_count": null,
   "metadata": {},
   "outputs": [],
   "source": [
    "import os\n",
    "import glob\n",
    "import re\n",
    "\n",
    "from collections import namedtuple\n",
    "\n",
    "import time\n",
    "from datetime import datetime, timedelta\n",
    "\n",
    "import matplotlib.pyplot as plt\n",
    "\n",
    "import numpy as np\n",
    "\n",
    "import itertools\n",
    "\n",
    "import time\n",
    "\n",
    "import cv2"
   ]
  },
  {
   "cell_type": "code",
   "execution_count": null,
   "metadata": {},
   "outputs": [],
   "source": [
    "from krwordrank.word import KRWordRank\n",
    "\n",
    "from wordcloud import WordCloud\n",
    "\n",
    "import matplotlib.pyplot as plt"
   ]
  },
  {
   "cell_type": "code",
   "execution_count": null,
   "metadata": {},
   "outputs": [],
   "source": [
    "log_file_list = glob.glob('../chats/*.log')"
   ]
  },
  {
   "cell_type": "code",
   "execution_count": null,
   "metadata": {},
   "outputs": [],
   "source": [
    "print(log_file_list)"
   ]
  },
  {
   "cell_type": "code",
   "execution_count": null,
   "metadata": {},
   "outputs": [],
   "source": [
    "log_file = log_file_list[-2]"
   ]
  },
  {
   "cell_type": "code",
   "execution_count": null,
   "metadata": {},
   "outputs": [],
   "source": [
    "Chat = namedtuple('Chat', 'time id text')"
   ]
  },
  {
   "cell_type": "code",
   "execution_count": null,
   "metadata": {},
   "outputs": [],
   "source": [
    "t0 = datetime.strptime('00:00:00','%H:%M:%S')"
   ]
  },
  {
   "cell_type": "code",
   "execution_count": null,
   "metadata": {
    "scrolled": false
   },
   "outputs": [],
   "source": [
    "chat_history = list()\n",
    "\n",
    "with open(log_file, 'r') as file:\n",
    "    \n",
    "    count = 0\n",
    "    for chat in file:\n",
    "#     chat = next(file).strip()\n",
    "#         print(chat.strip())\n",
    "        chat_time = re.search('\\[.*?\\]', chat)[0]\n",
    "        user_id_match = re.search('<.*?>', chat)\n",
    "        user_id = user_id_match[0]\n",
    "        start_of_chat = user_id_match.span()[-1]\n",
    "        text = chat[start_of_chat:].strip()\n",
    "        \n",
    "        dt = datetime.strptime(chat_time,'[%H:%M:%S]') - t0\n",
    "#         print(dt.total_seconds())\n",
    "        \n",
    "        chat_tuple = Chat(dt.total_seconds(), user_id[1:-1], text)\n",
    "\n",
    "#         print('{}'.format(chat_tuple))\n",
    "        chat_history.append(chat_tuple)\n",
    "        "
   ]
  },
  {
   "cell_type": "code",
   "execution_count": null,
   "metadata": {
    "scrolled": false
   },
   "outputs": [],
   "source": [
    "chat_time_list = [getattr(chat, 'time') for chat in chat_history]"
   ]
  },
  {
   "cell_type": "code",
   "execution_count": null,
   "metadata": {},
   "outputs": [],
   "source": [
    "max_min = np.int(np.ceil(max(chat_time_list)/60) + 1)"
   ]
  },
  {
   "cell_type": "code",
   "execution_count": null,
   "metadata": {},
   "outputs": [],
   "source": [
    "def express_bins_as_time_range(bins, index_list):\n",
    "    \n",
    "    time_range_list = list()\n",
    "    \n",
    "    for index in index_list:\n",
    "        begin = timedelta(seconds=int(bins[index]))\n",
    "        end = timedelta(seconds=int(bins[index+1]))\n",
    "        print('[{} ~ {}]'.format(begin, end))\n",
    "        time_range_list.append((begin, end))\n",
    "        \n",
    "    return time_range_list\n",
    "    \n",
    "def express_bins_as_sec_range(bins, index_list):\n",
    "    \n",
    "    time_range_list = list()\n",
    "    \n",
    "    for index in index_list:\n",
    "        begin = int(bins[index])\n",
    "        end = int(bins[index+1])\n",
    "        time_range_list.append((begin, end))\n",
    "        \n",
    "    return time_range_list"
   ]
  },
  {
   "cell_type": "code",
   "execution_count": null,
   "metadata": {
    "scrolled": false
   },
   "outputs": [],
   "source": [
    "plt.figure(figsize=(18, 3))\n",
    "histogram, bins, _ = plt.hist(chat_time_list, bins=max_min)\n",
    "plt.show()\n",
    "\n",
    "plt.figure(figsize=(18, 6))\n",
    "plt.plot(bins[:-1], histogram)\n",
    "historgram_avg = np.convolve(histogram, np.ones(5)/5, 'same')\n",
    "plt.plot(bins[:-1], historgram_avg)\n",
    "plt.show()\n",
    "\n",
    "histogram_delta = histogram - historgram_avg\n",
    "\n",
    "print(np.mean(histogram_delta))\n",
    "\n",
    "print(np.std(histogram_delta))\n",
    "\n",
    "outlier_idx = np.argwhere(histogram_delta > np.mean(histogram_delta) + 2.5 * np.std(histogram_delta))\n",
    "outlier_idx = list(itertools.chain.from_iterable(outlier_idx))\n",
    "\n",
    "print(outlier_idx)\n",
    "express_bins_as_time_range(bins, outlier_idx)\n",
    "\n",
    "plt.figure(figsize=(18, 6))\n",
    "plt.plot(bins[:-1], histogram_delta)\n",
    "plt.plot(bins[:-1][outlier_idx], histogram_delta[outlier_idx], '*')\n",
    "plt.show()\n",
    "\n",
    "\n",
    "\n",
    "plt.figure()\n",
    "_, _, _ = plt.hist(histogram_delta, bins=20)\n",
    "plt.show()\n",
    "\n",
    "time_range = express_bins_as_sec_range(bins, outlier_idx)"
   ]
  },
  {
   "cell_type": "code",
   "execution_count": null,
   "metadata": {},
   "outputs": [],
   "source": [
    "plt.figure(figsize=(18, 3))\n",
    "histogram, bins, _ = plt.hist(chat_time_list, bins=max_min)\n",
    "plt.show()\n",
    "\n",
    "plt.figure(figsize=(18, 6))\n",
    "plt.plot(bins[:-1], histogram)\n",
    "historgram_avg = np.convolve(histogram, np.ones(10)/10, 'same')\n",
    "plt.plot(bins[:-1], historgram_avg)\n",
    "plt.show()\n",
    "\n",
    "histogram_delta = histogram - historgram_avg\n",
    "\n",
    "print(np.mean(histogram_delta))\n",
    "\n",
    "print(np.std(histogram_delta))\n",
    "\n",
    "outlier_idx = np.argwhere(histogram_delta > np.mean(histogram_delta) + 2.5 * np.std(histogram_delta))\n",
    "outlier_idx = list(itertools.chain.from_iterable(outlier_idx))\n",
    "\n",
    "print(outlier_idx)\n",
    "express_bins_as_time_range(bins, outlier_idx)\n",
    "\n",
    "plt.figure(figsize=(18, 6))\n",
    "plt.plot(bins[:-1], histogram_delta)\n",
    "plt.plot(bins[:-1][outlier_idx], histogram_delta[outlier_idx], '*')\n",
    "plt.show()\n",
    "\n",
    "\n",
    "plt.figure()\n",
    "_, _, _ = plt.hist(histogram_delta, bins=20)\n",
    "plt.show()"
   ]
  },
  {
   "cell_type": "code",
   "execution_count": null,
   "metadata": {},
   "outputs": [],
   "source": [
    "print(datetime.now().strftime(\"%H-%M-%S\"))"
   ]
  },
  {
   "cell_type": "code",
   "execution_count": null,
   "metadata": {},
   "outputs": [],
   "source": [
    "group_index = 0\n",
    "search_range = time_range[group_index]\n",
    "chat_group = [list() for i in range(len(time_range))]\n",
    "\n",
    "for chat in chat_history:\n",
    "    time = getattr(chat, 'time')\n",
    "    \n",
    "    if time >= search_range[0] and time <= search_range[1]:\n",
    "        chat_group[group_index].append(chat)\n",
    "    \n",
    "    if time >= search_range[0] and time >= search_range[1]:\n",
    "        group_index += 1\n",
    "        if group_index >= len(time_range):\n",
    "            break\n",
    "        else:\n",
    "            search_range = time_range[group_index]\n",
    "\n",
    "# for begin, end in time_range:\n",
    "    "
   ]
  },
  {
   "cell_type": "code",
   "execution_count": null,
   "metadata": {},
   "outputs": [],
   "source": [
    "print(time_range)"
   ]
  },
  {
   "cell_type": "code",
   "execution_count": null,
   "metadata": {
    "scrolled": false
   },
   "outputs": [],
   "source": [
    "text_group = list()\n",
    "\n",
    "for chats in chat_group:\n",
    "    \n",
    "    text_list = list()\n",
    "    \n",
    "    for chat in chats:\n",
    "        text = getattr(chat, 'text')\n",
    "        text_list.append(text)\n",
    "        \n",
    "    text_group.append(text_list)"
   ]
  },
  {
   "cell_type": "code",
   "execution_count": null,
   "metadata": {
    "scrolled": false
   },
   "outputs": [],
   "source": [
    "# https://lovit.github.io/nlp/2018/04/17/word_cloud/\n",
    "\n",
    "min_count = 5   # 단어의 최소 출현 빈도수 (그래프 생성 시)\n",
    "max_length = 10 # 단어의 최대 길이\n",
    "\n",
    "beta = 0.85    # PageRank의 decaying factor beta\n",
    "max_iter = 10\n",
    "\n",
    "# keywords, rank, graph = wordrank_extractor.extract(text_group[0], beta, max_iter)\n",
    "\n",
    "# for word, r in sorted(keywords.items(), key=lambda x:x[1], reverse=True)[:30]:\n",
    "#     print('%8s:\\t%.4f' % (word, r))"
   ]
  },
  {
   "cell_type": "code",
   "execution_count": null,
   "metadata": {
    "scrolled": false
   },
   "outputs": [],
   "source": [
    "font_path = '/Library/Fonts/NanumBarunGothic.ttf'\n",
    "\n",
    "wordcloud = WordCloud(\n",
    "    font_path = font_path,\n",
    "    width = 800,\n",
    "    height = 800,\n",
    "    background_color=\"white\"\n",
    ")\n",
    "\n",
    "fig, axes = plt.subplots(int(len(text_group) // 2 + 1), 2, figsize=(10, int(len(text_group) // 2 + 1) * 5))\n",
    "\n",
    "axes = axes.flatten()\n",
    "\n",
    "for i, texts in enumerate(text_group):\n",
    "    \n",
    "    wordrank_extractor = KRWordRank(min_count=min_count, max_length=max_length)\n",
    "\n",
    "    keywords, rank, graph = wordrank_extractor.extract(texts, beta, max_iter)\n",
    "\n",
    "    for word, r in sorted(keywords.items(), key=lambda x:x[1], reverse=True)[:10]:\n",
    "        print('%8s:\\t%.4f' % (word, r))\n",
    "    print()\n",
    "\n",
    "    wordcloud = wordcloud.generate_from_frequencies(keywords)\n",
    "\n",
    "    array = wordcloud.to_array()\n",
    "    # print(type(array)) # numpy.ndarray\n",
    "    # print(array.shape) # (800, 800, 3)\n",
    "\n",
    "    axes[i].imshow(array, interpolation=\"bilinear\")\n",
    "    \n",
    "plt.show()"
   ]
  },
  {
   "cell_type": "code",
   "execution_count": null,
   "metadata": {},
   "outputs": [],
   "source": [
    "video_file_name = mp4_files[0]"
   ]
  },
  {
   "cell_type": "code",
   "execution_count": null,
   "metadata": {},
   "outputs": [],
   "source": [
    "from moviepy.video.io.ffmpeg_tools import ffmpeg_extract_subclip\n",
    "\n",
    "for i, (start, end) in enumerate(time_range):\n",
    "    suffix = '_{:02d}.mp4'.format(i)\n",
    "    clip_file_name = video_file_name.replace('.mp4', suffix)\n",
    "    pre_offset = 10\n",
    "    ffmpeg_extract_subclip(video_file_name, start - pre_offset, end, targetname=clip_file_name)"
   ]
  },
  {
   "cell_type": "code",
   "execution_count": null,
   "metadata": {},
   "outputs": [],
   "source": [
    "mp4_files = sorted(glob.glob('../videos/*.mp4'))"
   ]
  },
  {
   "cell_type": "code",
   "execution_count": null,
   "metadata": {},
   "outputs": [],
   "source": [
    "# https://www.learnopencv.com/read-write-and-display-a-video-using-opencv-cpp-python/\n",
    "\n",
    "# Create a VideoCapture object and read from input file\n",
    "# If the input is the camera, pass 0 instead of the video file name\n",
    "cap = cv2.VideoCapture(mp4_files[0])\n"
   ]
  },
  {
   "cell_type": "code",
   "execution_count": null,
   "metadata": {},
   "outputs": [],
   "source": [
    "# https://www.learnopencv.com/read-write-and-display-a-video-using-opencv-cpp-python/\n",
    "\n",
    "import cv2\n",
    "\n",
    "# Create a VideoCapture object and read from input file\n",
    "# If the input is the camera, pass 0 instead of the video file name\n",
    "cap = cv2.VideoCapture(mp4_files[0])\n",
    "\n",
    "# Check if camera opened successfully\n",
    "if (cap.isOpened()== False): \n",
    "    print(\"Error opening video stream or file\")\n",
    "\n",
    "# Read until video is completed\n",
    "while(cap.isOpened()):\n",
    "    # Capture frame-by-frame\n",
    "    ret, frame = cap.read()\n",
    "    \n",
    "    if ret == True:\n",
    "        cv2.imshow('Frame',frame)\n",
    "#         time.sleep(0.01)\n",
    "        \n",
    "        # Press Q on keyboard to  exit\n",
    "        if cv2.waitKey(25) & 0xFF == ord('q'):\n",
    "            break\n",
    "\n",
    "    else: \n",
    "        break\n",
    "\n",
    "cap.release()\n",
    "\n",
    "# Closes all the frames\n",
    "cv2.destroyAllWindows()\n"
   ]
  },
  {
   "cell_type": "code",
   "execution_count": null,
   "metadata": {},
   "outputs": [],
   "source": []
  }
 ],
 "metadata": {
  "kernelspec": {
   "display_name": "Python 3",
   "language": "python",
   "name": "python3"
  },
  "language_info": {
   "codemirror_mode": {
    "name": "ipython",
    "version": 3
   },
   "file_extension": ".py",
   "mimetype": "text/x-python",
   "name": "python",
   "nbconvert_exporter": "python",
   "pygments_lexer": "ipython3",
   "version": "3.7.7"
  }
 },
 "nbformat": 4,
 "nbformat_minor": 4
}
